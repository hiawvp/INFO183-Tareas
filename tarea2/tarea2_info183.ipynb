{
 "cells": [
  {
   "cell_type": "markdown",
   "metadata": {},
   "source": [
    "### Instrucciones generales <a class=\"tocSkip\"></a>\n",
    "\n",
    "1. Forme un grupo de **máximo dos estudiantes**\n",
    "1. Versione su trabajo usando un **repositorio <font color=\"red\">privado</font> de github**. Agregue a su compañero y a su profesor (usuario github: phuijse) en la pestaña *Settings/Manage access*. No se aceptarán consultas si la tarea no está en github. No se evaluarán tareas que no estén en github.\n",
    "1. Se evaluará el **resultado, la profundidad de su análisis y la calidad/orden de sus códigos** en base al último commit antes de la fecha y hora de entrega\". Se bonificará a quienes muestren un método de trabajo incremental y ordenado según el histórico de *commits*\n",
    "1. Sean honestos, ríganse por el [código de ética de la ACM](https://www.acm.org/about-acm/code-of-ethics-in-spanish)"
   ]
  },
  {
   "cell_type": "markdown",
   "metadata": {},
   "source": [
    "# Tarea 2: Filtrado de señales"
   ]
  },
  {
   "cell_type": "markdown",
   "metadata": {},
   "source": [
    "## Introducción\n",
    "\n",
    "\n",
    "Un **electrocardiograma (ECG)** es un gráfico de voltaje (amplitud) en función del tiempo correspondiente a la actividad eléctrica del corazón. Cada etapa del ciclo cardíaco es representado por una letra: **P, Q, R, S y T**. La siguiente figura muestra un esquema de un ECG con dos pulsos.\n",
    "\n",
    "<img src=\"cardio.png\" width=\"600\">\n",
    "\n",
    "\n",
    "El ECG se usa para hacer diagnósticos y en particular para analizar la existencia de anormalidades en el ciclo cardiaco. La **frecuencia cardiaca**, es decir el inverso del intervalo RR, de un humano normal en reposo está en el rango de **60 y 100 latidos por minuto**\n",
    "\n"
   ]
  },
  {
   "cell_type": "markdown",
   "metadata": {},
   "source": [
    "## Enunciado\n",
    "\n",
    "El hospital base de Valdivia tiene un electrocardiógrafo que mide la ECG en miliVolts [mV] a una frecuencia de muestreo de $360$ [Hz]\n",
    "\n",
    "Durante el proceso de captura ciertos errores provocaron que la señal se contamine con \n",
    "\n",
    "- **(A)** Un ruido asociado al sistema eléctrico\n",
    "- **(B)** Un ruido de baja frecuencia causado por un desperfecto del sensor\n",
    "- **(C)** Un ruido blanco de origen térmico \n",
    "\n",
    "Esto complica el análisis del médico por lo que el hospital base los contrata a ustedes para **diseñar un filtro que limpie la señal ECG**\n",
    "\n",
    "Resuelva las actividades que se piden a continuación, respondiendo y analizando donde corresponda"
   ]
  },
  {
   "cell_type": "code",
   "execution_count": null,
   "metadata": {},
   "outputs": [],
   "source": [
    "import numpy as np\n",
    "import pickle\n",
    "%matplotlib notebook\n",
    "import matplotlib.pylab as plt\n",
    "\n",
    "with open(\"ECG.pkl\", \"rb\") as f:\n",
    "    data = pickle.load(f)\n",
    "\n",
    "Fs = 360\n",
    "time = np.arange(len(data))/Fs\n",
    "fig, ax = plt.subplots(figsize=(7, 3), tight_layout=True)\n",
    "ax.plot(time, data)\n",
    "ax.set_xlabel('Tiempo [s]')\n",
    "ax.set_ylabel('Amplitud [mV]');"
   ]
  },
  {
   "cell_type": "markdown",
   "metadata": {},
   "source": [
    "## Análisis (15%)\n",
    "\n",
    "- Observe los primeros dos segundos de la señal, compare con el esquema mostrado en la introducción y discuta sobre los efectos causados por los ruidos **A**, **B** y **C** mencionados en el enunciado. Además responda  ¿Qué es un ruido blanco y que tipo de efecto introduce en la señal y en su espectro? ¿Qué es una tendencia y que tipo de efecto introduce en la señal y su espectro? "
   ]
  },
  {
   "cell_type": "code",
   "execution_count": null,
   "metadata": {},
   "outputs": [],
   "source": [
    "fig, ax = plt.subplots(figsize=(7, 3), tight_layout=True)\n",
    "ax.plot(time, data)\n",
    "ax.set_xlabel('Tiempo [s]')\n",
    "ax.set_ylabel('Amplitud [mV]');\n",
    "ax.set_xlim([0,2])"
   ]
  },
  {
   "cell_type": "markdown",
   "metadata": {},
   "source": [
    "Al comparar el esquema con los 2 primeros segundos de la señal, podemos apreciar claramente la presencia de ruido en el ECG, debido a que no es posible ver en la señal las etapas del ciclo cardíaco representadas en el esquema. La única etapa la cual es visible es la etapa **R**, pero aun pudiendo visualizarse, esta posee discontinuidades debido a la presencia de ruido. Al analizar los primeros segundos de la señal podemos observar que el único ruido apreciable a simple vista es el ruido blanco de origen térmico **(C)**, pero si nos enfocamos en la señal completa, podemos observar una tendencia debido a un ruido de baja frecuencia causado por un desperfecto del sensor **(B)**. Ni en la señal completa ni en los primeros segundos podemos observar a simple vista (o diferenciar del ruido blanco) el efecto causado por el ruido asociado al sistema eléctrico **(A)**.\n",
    "\n",
    "\n",
    "**¿Que es un ruido blanco?** \n",
    "\n",
    "Un ruido blanco es un ruido el cual está presente en todas las frecuencias de la señal. Este tipo de ruido se observa claramente en la señal debido a que al comparar el esquema con la señal, podemos ver que existen perturbaciones en toda su extensión.\n",
    "\n",
    "**¿Qué es una tendencia y que tipo de efecto introduce en la señal y su espectro?** \n",
    "\n",
    "Una tendencia o patrón es el comportamiento que tiene una señal debido a una perturbaciones externas. En este caso, al observar la señal completa, podemos observar una tendencia **sinusoidal**, la cual es anormal al compararla con el esquema original.\n"
   ]
  },
  {
   "cell_type": "markdown",
   "metadata": {},
   "source": [
    "* Calcule y muestre gráficamente el valor absoluto de la transformada de Fourier de la señal en función de la frecuencia y su espectrograma en función del tiempo y la frecuencia. Para el espectrograma decida el largo de ventana, traslape y tipo de ventana. Justifique su elección tomando en consideración el rango de frecuencias de un paciente normal y los *trade-off* aprendidos en clases"
   ]
  },
  {
   "cell_type": "markdown",
   "metadata": {},
   "source": [
    "> **Muestre gráficamente el valor absoluto de la transformada de Fourier de la señal en función de la frecuencia**"
   ]
  },
  {
   "cell_type": "code",
   "execution_count": null,
   "metadata": {},
   "outputs": [],
   "source": [
    "import scipy.fft as sfft\n",
    "fig, ax = plt.subplots(figsize=(7, 3), tight_layout=True)\n",
    "\n",
    "freq = sfft.rfftfreq(n=len(data), d=1./Fs)\n",
    "SA = np.absolute(sfft.rfft(data))\n",
    "\n",
    "ax.plot(freq, SA); \n",
    "ax.set_xlabel('Frecuencia [Hz]');"
   ]
  },
  {
   "cell_type": "markdown",
   "metadata": {},
   "source": [
    "> **Espectrograma en función del tiempo y la frecuencia. Para el espectrograma decida el largo de ventana, traslape y tipo de ventana. Justifique su elección tomando en consideración el rango de frecuencias de un paciente normal y los *trade-off* aprendidos en clases**\n",
    "\n"
   ]
  },
  {
   "cell_type": "markdown",
   "metadata": {},
   "source": [
    "En primer lugar intentaremos obtener una buena visión general de la señal e identificar las frecuencias aproximadas en la que se encuentran los ruidos. Al utilizar una longitud de segmento Nw = 512 es posible ver claramente donde se encuentran ubicados (aparte del ruido blanco), el efecto de la tendencia sobre la señal, además de un sector (frecuencia < 25 Hz) donde posiblemente se encuentra la información de interés. Se utilizó una ventana de 'hamming' con un traslape relativamente alto, considerando que la frecuencia de muestreo no es muy grande."
   ]
  },
  {
   "cell_type": "code",
   "execution_count": null,
   "metadata": {
    "scrolled": false
   },
   "outputs": [],
   "source": [
    "#Fs == 360\n",
    "import scipy.signal\n",
    "window = 'hamming'\n",
    "Nw = 512\n",
    "\n",
    "fig, ax = plt.subplots(figsize=(8, 5), tight_layout=True)\n",
    "freqs, times, Sxx = scipy.signal.spectrogram(data,   #'s' (2[s]) o 'data'(60[s])\n",
    "                                             fs=Fs,\n",
    "                                             nperseg=Nw,\n",
    "                                             noverlap=Nw//1.3,\n",
    "                                             window=window)\n",
    "ax.pcolormesh(times, freqs, np.log10(Sxx + 1e-10), shading='auto')#, cmap=plt.cm.Reds)\n",
    "ax.set_ylabel('Frequencia [Hz]');\n",
    "ax.set_title(f\"Ventana de duración {Nw/Fs:0.4f} [s]\")\n",
    "ax.set_xlabel('Tiempo [s]'); \n",
    "plt.show()"
   ]
  },
  {
   "cell_type": "markdown",
   "metadata": {},
   "source": [
    "Para observar a un nivel de detalle mayor el rango de frecuencias de un paciente normal y la zona de interés mencionada previamente, se incrementó considerablemente la resolución a nivel frecuencia, lo que nos deja con una ventana bastante larga pero nos permite ver posibles armónicos relacionados con el ciclo cardíaco. También se nota claramente la amplitud del ruido de baja frecuencia. El traslape también se aumento, utilizando una cantidad de puntos cercana al largo de segmento."
   ]
  },
  {
   "cell_type": "code",
   "execution_count": null,
   "metadata": {},
   "outputs": [],
   "source": [
    "Nw = 256*16\n",
    "fig, ax = plt.subplots(figsize=(7, 5), tight_layout=True, sharex=True, sharey=True)\n",
    "freqs, times, Sxx = scipy.signal.spectrogram(data,\n",
    "                                             fs=Fs,\n",
    "                                             nperseg=Nw, #largo de cada segmento\n",
    "                                             noverlap=Nw//1.1, #Npuntos que se sobreponen\n",
    "                                             window=window)\n",
    "ax.pcolormesh(times, freqs, np.log10(Sxx + 1e-10), shading='auto'); \n",
    "ax.set_ylabel('Frequencia [Hz]');\n",
    "ax.set_title(f\"Ventana de duración {Nw/Fs:0.4f} [s]\")\n",
    "ax.set_ylim([0, 20])\n",
    "#ax.grid()\n",
    "plt.show()\n"
   ]
  },
  {
   "cell_type": "markdown",
   "metadata": {},
   "source": [
    "* En base a la señal, su espectro de magnitud y su espectrograma identifique la frecuencia central o el rango de frecuencias asociada a las tres fuentes de ruido. ¿En qué rango de frecuencias (Hz) se espera encontrar la señal de ritmo cardíaco de un humano normal en reposo?\n",
    "\n"
   ]
  },
  {
   "cell_type": "markdown",
   "metadata": {},
   "source": [
    "**(A) Un ruido asociado al sistema eléctrico**\n",
    "\n",
    "- 60 [Hz] (+- 2 debido a la tendencia)\n",
    "\n",
    "**(B) Un ruido de baja frecuencia causado por un desperfecto del sensor**\n",
    "\n",
    "- < 0.5 [Hz]\n",
    "\n",
    "**(C) Un ruido blanco de origen térmico**\n",
    "\n",
    "- En todo el rango de frecuencias\n"
   ]
  },
  {
   "cell_type": "code",
   "execution_count": null,
   "metadata": {},
   "outputs": [],
   "source": [
    "fmin = 60/60 #60 pulsaciones en 60 seg\n",
    "fmax = 100/60 #100 pulsaciones en 60 seg\n",
    "print(f\"El rango de frecuencias cardíacas de un humano normal en reposo se encuentra en el intervalo:\"\n",
    "     +f\" [{fmin}, {fmax:.3f}] Hz\")"
   ]
  },
  {
   "cell_type": "markdown",
   "metadata": {},
   "source": [
    "## Filtrado FIR (50%)\n",
    "\n",
    "Describa lo que es un filtro FIR, explique paso a paso el método de enventanado y describa los argumentos y el valor de retorno de la función `scipy.signal.firwin`. \n",
    "\n",
    "Luego use este método para diseñar y aplicar tres filtros sobre la señal de entrada. El primero debe filtrar el ruido **(A)**, el segundo el ruido **(B)** y el tercero el ruido **(C)**. Indique la(s) frecuencia(s) de corte y el tipo de filtro en cada caso. Justifique su elección en base a sus observaciones en el paso anterior.\n",
    "\n",
    "Considere una ventana de Hamming y $1001$ coeficientes para el filtro\n",
    "\n",
    "Por cada filtro:\n",
    "- Muestre la respuesta al impulso y la respuesta en frecuencia resultantes\n",
    "- Filtre la señal convolucionando con la respuesta al impulso\n",
    "- Calcule la resta entre la señal original y la señal filtrada. ¿Qué espera observar en este caso? Luego muestre gráficamente el espectro de magnitud y el espectrograma de la señal restada. En base a lo que observa y a los gráficos del punto anterior discuta sobre la efectividad del filtro\n",
    "\n",
    "Finalmente\n",
    "- Filtre la señal convolucionando con los tres filtros. Muestre el resultado graficamente. \n",
    "- Muestre un acercamiento de los primeros tres segundos de la señal filtrada, reconozca la fase R y márquela con una linea roja punteada.\n",
    "- Cree una función que mida el tiempo RR en la señal filtrada. Grafique la frecuencia cardiaca en función del tiempo. ¿Se encuentra la persona en el rango sano o no?"
   ]
  },
  {
   "cell_type": "markdown",
   "metadata": {},
   "source": [
    "> Describa lo que es un filtro FIR, explique paso a paso el método de enventanado y describa los argumentos y el valor de retorno de la función `scipy.signal.firwin`. "
   ]
  },
  {
   "cell_type": "markdown",
   "metadata": {},
   "source": [
    "Los filtros FIR, son filtros digitales cuya respuesta a un impulso unitario es de duración finita. Estos filtros se representan como una sola convolución y para definir su salida utilizan valores presentes de la entrada y valores pasados de la entrada.\n",
    "\n",
    "Su implementación más común es mediante el **método de la ventana**, el cual es un método donde el objetivo es diseñar la respuesta al impulso a partir de una condición, la cual puede ser, eliminar o dejar todas las frecuencias sobre una frecuencia específica.\n",
    "\n",
    "Para esto, puede implementarse utilizando distintos tipos de ventanas, como las ventanas de Hamming, ventana rectangular, ventana de Kaiser, etc.\n",
    "\n",
    "El método de enventanado consta de los siguientes pasos:\n",
    "\n"
   ]
  },
  {
   "cell_type": "markdown",
   "metadata": {},
   "source": [
    "**Método de enventanado**\n",
    "\n",
    "A partir de un requisito como \"eliminar todas las frecuencias > x\"\n",
    "\n",
    "1. Identificar las frecuencias de interés (o las frecuencias que deseamos eliminar) para  especificar una respuesta en frecuencia ideal\n",
    "2. obtener la respuesta al impulso ideal por medio de la *transformada de fourier inversa*\n",
    "3. truncar la respuesta al impulso ideal usando una ventana\n"
   ]
  },
  {
   "cell_type": "markdown",
   "metadata": {},
   "source": [
    "L :  cantidad de coeficientes que tiene nuestor filtro. A mayor L, mayor es la fidelidad con respecto a la respuesta en frecuencia ideal, asi como tambien es el costo computacional"
   ]
  },
  {
   "cell_type": "markdown",
   "metadata": {},
   "source": [
    "**Función `scipy.signal.firwin`**\n",
    "\n",
    "\n",
    "**Argumentos**\n",
    "\n",
    "* **numtaps:** L, numero de coeficientes que tendrá el filtro\n",
    "\n",
    "* **cutoff:** frecuencia(s) de corte a utilizar\n",
    "\n",
    "* **width (opcional):** Ancho de la region de transisicion (para usar con Kaiser)\n",
    "\n",
    "* **window(opcional):** ventana a utilizar, ya sea un string (nombre) o una tupla con nombre y parametros.\n",
    "\n",
    "* **pass_zero(opcional):** booleano (pasabajo si/no) o string [‘bandpass’, ‘lowpass’, ‘highpass’, ‘bandstop’] que indica el tipo de filtro a generar. relacionado con el argumento `cutoff` \n",
    "\n",
    "**Retorna**\n",
    "\n",
    "h : respuesta al impulso ideal truncada (finita)"
   ]
  },
  {
   "cell_type": "markdown",
   "metadata": {},
   "source": [
    "> use este método para diseñar y aplicar tres filtros sobre la señal de entrada. El primero debe filtrar el ruido (A), el segundo el ruido (B) y el tercero el ruido (C). Indique la(s) frecuencia(s) de corte y el tipo de filtro en cada caso. Justifique su elección en base a sus observaciones en el paso anterior.\n",
    "\n",
    "* Considere una ventana de Hamming y 1001 coeficientes para el filtro"
   ]
  },
  {
   "cell_type": "code",
   "execution_count": null,
   "metadata": {},
   "outputs": [],
   "source": [
    "from scipy import signal\n",
    "window = 'hamming'\n",
    "L = 1001"
   ]
  },
  {
   "cell_type": "code",
   "execution_count": null,
   "metadata": {},
   "outputs": [],
   "source": [
    "#revisar labels\n",
    "def plot_respuestas(h):\n",
    "    global Fs\n",
    "    fig, axs = plt.subplots(1, 2, figsize=(8, 4), tight_layout=True)\n",
    "    freq, H = scipy.signal.freqz(h, fs=Fs)\n",
    "    axs[0].plot(h);\n",
    "    axs[0].set_title(\"Respuesta al impulso\")\n",
    "    axs[0].set_xlabel('muestras');\n",
    "\n",
    "    axs[1].plot(freq, np.absolute(H)); \n",
    "    axs[1].set_title(\"Respuesta en frecuencia\")\n",
    "    axs[1].set_xlabel('Frecuencia [Hz]');"
   ]
  },
  {
   "cell_type": "code",
   "execution_count": null,
   "metadata": {},
   "outputs": [],
   "source": [
    "def plot_espectrograma(s, Nw=512, title=''):\n",
    "    global window, Fs\n",
    "    fig, ax = plt.subplots(figsize=(7, 4), tight_layout=True)\n",
    "    \n",
    "    freqs, times, Sxx = scipy.signal.spectrogram(s,\n",
    "                                                 fs=Fs,\n",
    "                                                 nperseg=Nw,\n",
    "                                                 noverlap=Nw//1.3,\n",
    "                                                 window=window)\n",
    "    im = ax.pcolormesh(times, freqs, np.log10(Sxx + 1e-10), shading='auto')#, cmap=plt.cm.Reds)\n",
    "    fig.colorbar(im, ax=ax)\n",
    "    ax.set_ylabel('Frequencia [Hz]')\n",
    "    ax.set_title(f\"Ventana de duración {Nw/Fs:0.4f} [s]\\n{title}\")\n",
    "    ax.set_xlabel('Tiempo [s]')\n",
    "    ax.set_ylim([0, 70])"
   ]
  },
  {
   "cell_type": "code",
   "execution_count": null,
   "metadata": {},
   "outputs": [],
   "source": [
    "def plot_sen_restada(resta, title, Nw=512):\n",
    "    global window, Fs\n",
    "    fig, ax = plt.subplots(figsize=(7, 4), tight_layout=True)\n",
    "    \n",
    "    freq = sfft.rfftfreq(n=len(resta), d=1./Fs)\n",
    "    SA = np.absolute(sfft.rfft(resta))\n",
    "    ax.plot(freq, SA); \n",
    "    ax.set_xlabel('Frecuencia [Hz]');\n",
    "    ax.set_title(f\"Espectro de amplitud {title}\")\n",
    "    plot_espectrograma(resta, title=title)"
   ]
  },
  {
   "cell_type": "code",
   "execution_count": null,
   "metadata": {},
   "outputs": [],
   "source": [
    "def plot_signal(s, label='filtered', title='', og=None, oglabel=''):\n",
    "    global time\n",
    "    fig, ax = plt.subplots(figsize=(7,3), tight_layout=True)\n",
    "    \n",
    "    if og is not None:\n",
    "        ax.plot(time, og, alpha=0.5, label=oglabel)\n",
    "        ax.plot(time, s, alpha=0.5, label=label)\n",
    "        ax.legend()\n",
    "    else:\n",
    "        ax.plot(time, s, label=label)\n",
    "    ax.set_xlim([0, 10])\n",
    "    ax.set_xlabel('Tiempo [s]')\n",
    "    ax.set_ylabel('Amplitud [mV]');\n",
    "    ax.set_title(title)\n",
    "    plt.show()"
   ]
  },
  {
   "cell_type": "markdown",
   "metadata": {},
   "source": [
    "#### (A) Un ruido asociado al sistema eléctrico\n",
    "\n",
    "Determinamos a partir del espectrograma que la frecuencia del ruido asociado al sistema eléctrico está centrada en 60 [Hz] y oscila en torno a este valor a causa de la tendencia ocasionada por el ruido de baja frecuencia. Para actuar sobre este ruido solamente, procederemos a crear un filtro **rechaza banda** que bloquee el paso de las frecuencias asociadas. En este utilizaremos como frecuencias de corte$f_{c1} < f_{c2}$ :\n",
    "\n",
    "$f_{c1}$ = 57 \n",
    "$f_{c2}$ = 63 "
   ]
  },
  {
   "cell_type": "code",
   "execution_count": null,
   "metadata": {},
   "outputs": [],
   "source": [
    "h_A = signal.firwin(L, [57, 63], window=window,\n",
    "                    pass_zero=True, fs=Fs)\n",
    "plot_respuestas(h_A)"
   ]
  },
  {
   "cell_type": "code",
   "execution_count": null,
   "metadata": {},
   "outputs": [],
   "source": [
    "y_A = scipy.signal.convolve(data, h_A, mode='same')\n",
    "plot_signal(y_A, label='filtro A', title='señal tras aplicar filtro A',\n",
    "            og=data, oglabel='señal original')"
   ]
  },
  {
   "cell_type": "markdown",
   "metadata": {},
   "source": [
    "> Calcule la resta entre la señal original y la señal filtrada. "
   ]
  },
  {
   "cell_type": "code",
   "execution_count": null,
   "metadata": {},
   "outputs": [],
   "source": [
    "r_A = data - y_A\n",
    "plot_sen_restada(r_A, title=\"Señal tras filtrar ruido (A)\", Nw=512)"
   ]
  },
  {
   "cell_type": "markdown",
   "metadata": {},
   "source": [
    "Al realizar la resta de la señal original con la señal filtrada, podemos apreciar claramente el segmento de señal que fue filtrado, en este caso particular, podemos observar que fue satisfactoriamente filtrado el segmento entre 57 y 63 [Hz], dejando el resto de frecuencias sin ningún tipo de ruido."
   ]
  },
  {
   "cell_type": "markdown",
   "metadata": {},
   "source": [
    "#### (B) Un ruido de baja frecuencia causado por un desperfecto del sensor\n",
    "\n",
    "Para eliminar este ruido en particular utilizamos la gráfica de la señal sin filtrar para calcular el periodo de la tendencia que esta provoca. Determinamos que el periodo es de aproximadamente 10[s] por lo que la frecuencia asociada tendrá un valor cercano a 0.1[Hz].\n",
    "\n",
    "Para actuar sobre este ruido solamente, crearemos un filtro pasa alto que bloquee las señales menores a 0.65 [Hz], utilizamos como frecuencia de corte 0.65 [Hz] para tener un margen más grande a la hora de aplicar el filtro, este valor fue encontrado en base a prueba y error de valores que mejoraran la tendencia de la señal, junto con observar en el espectrograma hasta qué frecuencia podíamos aumentar el margen sin interferir con la señal de interés.\n"
   ]
  },
  {
   "cell_type": "code",
   "execution_count": null,
   "metadata": {},
   "outputs": [],
   "source": [
    "h_B = signal.firwin(L, 0.65, window=window,\n",
    "                    pass_zero=False, fs=Fs)\n",
    "plot_respuestas(h_B)"
   ]
  },
  {
   "cell_type": "code",
   "execution_count": null,
   "metadata": {},
   "outputs": [],
   "source": [
    "y_B = scipy.signal.convolve(data, h_B, mode='same')#\n",
    "plot_signal(y_B, label='filtro B', title='señal tras aplicar filtro B',\n",
    "            og=data, oglabel='señal original')"
   ]
  },
  {
   "cell_type": "markdown",
   "metadata": {},
   "source": [
    "> Calcule la resta entre la señal original y la señal filtrada.\n"
   ]
  },
  {
   "cell_type": "code",
   "execution_count": null,
   "metadata": {},
   "outputs": [],
   "source": [
    "r_B = data - y_B\n",
    "plot_sen_restada(r_B, \"Señal tras filtrar ruido (B)\")"
   ]
  },
  {
   "cell_type": "markdown",
   "metadata": {},
   "source": [
    "Al realizar la resta, podemos observar las frecuencias que el filtro bloqueó, por lo que podemos ver claramente que el filtro bloquea efectivamente las frecuencias bajas producidad por el desperfecto del sensor. Su efecto es evidente al comparar directamente la señal original con la resultante, donde la última ya no se encuentra bajo el efecto de una tendencia."
   ]
  },
  {
   "cell_type": "markdown",
   "metadata": {},
   "source": [
    "#### (C) Un ruido blanco de origen térmico\n",
    "Para el caso del ruido blanco, el cual no se encuentra en una frecuencia en particular, hace falta adoptar un enfoque distinto al de los otros dos ruidos. Para quitarlo haremos un filtro **bandpass** con el rango de frecuencias cardíacas de un humano sano en reposo [1.0, 1.667] [Hz], pero con un margen más amplio, el cual quedó definido como [0.67, 10.0] [Hz]. Este margen fue escogido debido a que el filtro (B), quedó definido con una frecuencia de corte de 0.65 [Hz], por lo que este filtro podría empezar con una frecuencia mayor a la frecuencia de corte del filtrado anterior, en base a prueba y error, y teniendo en consideración los valores mínimos posibles (no necesariamente de una persona sana) de latidos por minuto, se definió un valor de corte inferior de 0.67 [Hz], al igual que la frecuencia de corte. \n",
    "\n",
    "La frecuencia de corte superior fue definida de la misma manera, intentando encontrar una frecuencia la cual sea mayor a 1.667 [Hz] y menor a 57 [Hz], pero teniendo en consideración la información que obtuvimos a través de los espectrogramas de la señal contaminada, y las duraciones de los intervalos presentes en el diagrama del ECG. En base lo mencionado, a un ajuste fino hecho de forma manual, encontramos que un valor que nos diera un margen el cual nos ayudará a eliminar de mejor manera el ruido blanco era 10 [Hz]\n",
    "\n"
   ]
  },
  {
   "cell_type": "code",
   "execution_count": null,
   "metadata": {},
   "outputs": [],
   "source": [
    "h_C = signal.firwin(L, [.67, 10], window=window,\n",
    "                    pass_zero='bandpass', fs=Fs)\n",
    "plot_respuestas(h_C)"
   ]
  },
  {
   "cell_type": "code",
   "execution_count": null,
   "metadata": {},
   "outputs": [],
   "source": [
    "y_C = scipy.signal.convolve(data, h_C, mode='same')\n",
    "plot_signal(y_C, label='filtro C', title='señal tras aplicar filtro C',\n",
    "            og=data, oglabel='señal original')"
   ]
  },
  {
   "cell_type": "markdown",
   "metadata": {},
   "source": [
    "> Calcule la resta entre la señal original y la señal filtrada.\n",
    " "
   ]
  },
  {
   "cell_type": "code",
   "execution_count": null,
   "metadata": {},
   "outputs": [],
   "source": [
    "r_C = data - y_C\n",
    "plot_sen_restada(r_C, \"Señal tras filtrar ruido (C)\")"
   ]
  },
  {
   "cell_type": "markdown",
   "metadata": {},
   "source": [
    "\n",
    "Al haber hecho un enfoque distinto para el ruido (C), al realizar la resta de la señal original menos la señal filtrada, podemos observar la información que no fue eliminada por el filtro (A diferencia de los filtros anteriores que solo observábamos lo que el filtro elimina) y el rango de frecuencias el cual fue filtrado, gracias a esto, queda en evidencia que el filtro se efectuó de manera correcta."
   ]
  },
  {
   "cell_type": "markdown",
   "metadata": {},
   "source": [
    "> Filtre la señal convolucionando con los tres filtros. Muestre el resultado graficamente.\n",
    "\n"
   ]
  },
  {
   "cell_type": "code",
   "execution_count": null,
   "metadata": {},
   "outputs": [],
   "source": [
    "data_filtrada_fir = scipy.signal.convolve(data, h_A, mode='same')\n",
    "data_filtrada_fir = scipy.signal.convolve(data_filtrada_fir, h_B, mode='same')\n",
    "data_filtrada_fir = scipy.signal.convolve(data_filtrada_fir, h_C, mode='same')"
   ]
  },
  {
   "cell_type": "code",
   "execution_count": null,
   "metadata": {},
   "outputs": [],
   "source": [
    "plot_sen_restada(data_filtrada_fir, \"convulsionar con los tres filtros\")"
   ]
  },
  {
   "cell_type": "markdown",
   "metadata": {},
   "source": [
    "\n",
    "Podemos observar en el espectrograma como los 3 filtros fueron aplicados y tenemos una señal limpia, sin ruido blanco debido a un origen térmico (C), sin ruido asociado al sistema eléctrico (A) y sin ruido de baja frecuencia causado por un desperfecto del sensor (B). Donde podemos observar una clara señal que pertenece a las frecuencias bajas entre [0.67,10] [Hz] (como fue definido en el filtro (C)).\n"
   ]
  },
  {
   "cell_type": "markdown",
   "metadata": {},
   "source": [
    "> Muestre un acercamiento de los primeros tres segundos de la señal filtrada, reconozca la fase R y márquela con una linea roja punteada. "
   ]
  },
  {
   "cell_type": "code",
   "execution_count": null,
   "metadata": {},
   "outputs": [],
   "source": [
    "from scipy.signal import argrelmax\n",
    "\n",
    "\n",
    "xpos = argrelmax(data_filtrada_fir, order=Fs//2)[0]\n",
    "fig, ax = plt.subplots(figsize=(7,3), tight_layout=True)\n",
    "ax.plot(time, data_filtrada_fir, label=\"Señal filtrada\")\n",
    "for xc in xpos:\n",
    "    ax.axvline(x=time[xc], color='r', linestyle='--')\n",
    "ax.legend()\n",
    "ax.set_xlim([0, 3])\n",
    "plt.show()"
   ]
  },
  {
   "cell_type": "markdown",
   "metadata": {},
   "source": [
    "> Cree una función que mida el tiempo RR en la señal filtrada. Grafique la frecuencia cardiaca en función del tiempo. ¿Se encuentra la persona en el rango sano o no?"
   ]
  },
  {
   "cell_type": "code",
   "execution_count": null,
   "metadata": {},
   "outputs": [],
   "source": [
    "def tiempo_rr(data, time, xpos=None):\n",
    "    if xpos is None:\n",
    "        xpos = argrelmax(data_filtrada_fir, order=Fs//2)[0]\n",
    "    freqs = []\n",
    "    times = []\n",
    "    for i in range(len(xpos) - 1):\n",
    "        freqs.append(1/(time[xpos[i+1]] - time[xpos[i]]))\n",
    "        times.append(time[xpos[i]])\n",
    "    return freqs, times"
   ]
  },
  {
   "cell_type": "code",
   "execution_count": null,
   "metadata": {},
   "outputs": [],
   "source": [
    "f, t = tiempo_rr(data_filtrada_fir, time, xpos=xpos)\n",
    "fig, ax = plt.subplots(figsize=(7,4), tight_layout=True)\n",
    "ax.plot(t, f, label='frecuencia cardiaca muestreada')\n",
    "ax.plot(t, np.repeat(fmin, len(t)), label='frecuencia cardiaca normal minima')\n",
    "ax.plot(t, np.repeat(fmax, len(t)), label='frecuencia cardiaca normal maxima')\n",
    "ax.legend(loc='upper left')\n",
    "ax.set_ylim([0.1, 3.0])"
   ]
  },
  {
   "cell_type": "markdown",
   "metadata": {},
   "source": [
    "A Partir de la señal a la cual se le aplicaron los 3 filtros, podemos ver que la persona en todo momento se encuentra en un rango de frecuencia cardiaca normal, cabe destacar que en el segundo 5 existe un acercamiento al límite de lo que definimos como frecuencia mínima y maxima, pero en el resto del ECG, la persona se mantiene en niveles de persona sana."
   ]
  },
  {
   "cell_type": "markdown",
   "metadata": {},
   "source": [
    "## Filtrado IIR (35%)\n",
    "\n",
    "Describa los filtros IIR y compárelo con los filtros FIR. Describa los argumentos y el valor de retorno de la función `scipy.signal.iirfilter`.\n",
    "\n",
    "Luego use este método para diseñar tres filtros. Los filtros deben cumplir el mismo propósito que en el caso anterior. Considere filtros IIR de tipo `butterworth` y todos del mismo orden. Aplique los filtros sobre la señal de entrada usando la función `scipy.signal.lfilter`.\n",
    "\n",
    "El objetivo es encontrar el mínimo orden para los filtros IIR tal que el error medio cuadrático entre la señal filtrada IIR y la señal filtrada FIR sea menor que un 1% de la varianza de la señal filtrada FIR. Es decir que si $x$ es la señal filtrada IIR e $y$ es la señal filtrada FIR donde $N = \\min(\\text{len}(x), \\text{len}(y))$ se cumpla que\n",
    "\n",
    "$$\n",
    "\\sum_{i=1}^N (x_i - y_i)^2 < 0.01 \\sum_{i=1}^N (y_i - \\bar y_i)^2\n",
    "$$\n",
    "\n",
    "Finalmente, discuta sobre sus hallazgos muestre gráficamente el resultado del mejor filtro IIR\n"
   ]
  },
  {
   "cell_type": "markdown",
   "metadata": {},
   "source": [
    "> Describa los filtros IIR y compárelo con los filtros FIR. Describa los argumentos y el valor de retorno de la función `scipy.signal.iirfilter`."
   ]
  },
  {
   "cell_type": "markdown",
   "metadata": {},
   "source": [
    "\n",
    "Los filtros de respuesta infinita al impulso (IIR), son filtros digitales los cuales para definir la salida al impulso utilizan las entradas presentes, entradas pasadas y **salidas pasadas**.\n",
    "\n",
    "Algunas de las diferencias de los filtros IIR con los filtros FIR son las siguientes:\n",
    "\n",
    "* Los filtros IIR incorporan recursividad a diferencia de los filtros FIR.\n",
    "* Los filtros FIR son un filtro IIR con denominador a = 1.\n",
    "* Los filtros FIR son más estables que los filtros IIR, pero IIR es más eficiente al entregar mejores resultados utilizando un menor número de coeficientes.\n",
    "* Los filtros FIR utilizan desfase constante en contraste con los filtros IIR que depende de la frecuencia.\n"
   ]
  },
  {
   "cell_type": "markdown",
   "metadata": {},
   "source": [
    "`scipy.signal.iirfilter`\n",
    "\n",
    "**Argumentos**\n",
    "\n",
    "**N :** orden del filtro (n coeficientes en b y a)\n",
    "\n",
    "**Wn:** frecuencia(s) de corte a utilizar\n",
    "\n",
    "**btype:** string [‘bandpass’, ‘lowpass’, ‘highpass’, ‘bandstop’] que indica el tipo de filtro a generar. \n",
    "\n",
    "**ftype:** string con el tipo de filtro IIR a diseñar ['butter', 'cheby1', 'cheby2', 'ellip', 'bessel']\n",
    "\n",
    "**output:** formato de la salida 'ba': numerador/denominador, 'zpk' polos y ceros, 'sos' secciones de segundo orden.\n",
    "\n",
    "**Retorna**\n",
    "\n",
    "el filtro dependiendo del argumento entregado en `output`. por defecto coeficientes b y a (output='ba')"
   ]
  },
  {
   "cell_type": "markdown",
   "metadata": {},
   "source": [
    "> Use este método para diseñar tres filtros. Los filtros deben cumplir el mismo propósito que en el caso anterior. Considere filtros IIR de tipo `butterworth` y todos del mismo orden. Aplique los filtros sobre la señal de entrada usando la función `scipy.signal.lfilter`."
   ]
  },
  {
   "cell_type": "code",
   "execution_count": null,
   "metadata": {},
   "outputs": [],
   "source": [
    "from scipy.signal import butter"
   ]
  },
  {
   "cell_type": "markdown",
   "metadata": {},
   "source": [
    "> encontrar el mínimo orden para los filtros IIR tal que el error medio cuadrático entre la señal filtrada IIR y la señal filtrada FIR sea menor que un 1% de la varianza de la señal filtrada FIR. "
   ]
  },
  {
   "cell_type": "code",
   "execution_count": null,
   "metadata": {},
   "outputs": [],
   "source": [
    "fir_var = np.var(data_filtrada_fir)\n",
    "\n",
    "freq_corte_norm = np.array([[57., 63.], [0.65, 0.65], [0.67, 10.]])\n",
    "freq_corte_norm = 2 * freq_corte_norm/ Fs\n",
    "\n",
    "freqs = freq_corte_norm.tolist()\n",
    "#freqs = [freq_corte_norm[2, :].tolist()]\n",
    "\n",
    "freqs[1] = freq_corte_norm[1, 0]\n",
    "b_types = ['bandstop', 'highpass', 'bandpass']\n",
    "#b_types = ['bandpass']"
   ]
  },
  {
   "cell_type": "code",
   "execution_count": null,
   "metadata": {},
   "outputs": [],
   "source": [
    "N = 1\n",
    "mse_diff = False\n",
    "mse_best = np.inf\n",
    "\n",
    "while (N < 20 and not mse_diff):\n",
    "    filtros = []\n",
    "    for (fc, btype) in zip(freqs, b_types):\n",
    "        sos = scipy.signal.iirfilter(N, fc, btype=btype, ftype='butter', output='sos')\n",
    "        filtros.append(sos)\n",
    "\n",
    "    data_filtrada_iir = np.copy(data)\n",
    "    for sos in filtros:\n",
    "        data_filtrada_iir = scipy.signal.sosfiltfilt(sos, data_filtrada_iir)\n",
    "        \n",
    "    mse = np.mean((data_filtrada_iir - data_filtrada_fir)**2)\n",
    "\n",
    "    print(f\"N : {N}, mse : {mse:.5f}\\t|\\t0.01*fir_var : {0.01*fir_var:.5f}\")\n",
    "    if (mse < mse_best):\n",
    "        mse_best = mse\n",
    "        best_N = N\n",
    "        best_data_iir = np.copy(data_filtrada_iir)\n",
    "        \n",
    "    if (mse < 0.01*fir_var):\n",
    "        mse_diff = True\n",
    "        print(\"Se encontró el minimo valor de N que cumple la condición.\")\n",
    "\n",
    "    else:\n",
    "        N += 1\n",
    "        \n",
    "print(f\"mejor N : {best_N}, mse : {mse_best:.5f}\")"
   ]
  },
  {
   "cell_type": "code",
   "execution_count": null,
   "metadata": {},
   "outputs": [],
   "source": [
    "fig, axd = plt.subplots(figsize=(7,3), tight_layout=True)\n",
    "axd.plot(time, best_data_iir, alpha=0.5, c='r', label=f'filtro IIR orden {best_N}')\n",
    "axd.plot(time, data_filtrada_fir, alpha=0.5, label=f'filtro FIR L = {L}')\n",
    "axd.set_xlim([0, 5])\n",
    "axd.legend()"
   ]
  },
  {
   "cell_type": "markdown",
   "metadata": {},
   "source": [
    "> Discuta sobre sus hallazgos muestre gráficamente el resultado del mejor filtro IIR"
   ]
  },
  {
   "cell_type": "code",
   "execution_count": null,
   "metadata": {},
   "outputs": [],
   "source": [
    "display(sos.size)"
   ]
  },
  {
   "cell_type": "markdown",
   "metadata": {},
   "source": [
    "A Partir del gráfico anterior, podemos ver que nuestra implementación utilizando FIR, coincide de muy buena manera con el filtro IIR que fue determinado cumpliendo la condición requerida, podemos observar diferencias pero para nuestro caso, estas diferencias no son lo suficientemente grandes como para decir que un tipo de filtrado es mejor que el otro, salvo por el uso de memoria."
   ]
  },
  {
   "cell_type": "code",
   "execution_count": null,
   "metadata": {},
   "outputs": [],
   "source": [
    "print(f\"total de coeficientes filtro IIR : {sos.size}\")\n",
    "print(f\"total de coeficientes filtro FIR : {h_C.size}\")\n",
    "%timeit scipy.signal.convolve(data_filtrada_fir, h_C, mode='same')\n",
    "%timeit scipy.signal.sosfiltfilt(sos, data_filtrada_iir)"
   ]
  },
  {
   "cell_type": "markdown",
   "metadata": {},
   "source": [
    "Podemos concluir que ambos tipos de filtrado son igual de útiles para eliminar ruidos externos de un ECG, siendo posible filtrar de manera precisa los tipos de ruidos definidos en el enunciado, sin embargo, un filtro de tipo IIR permite obtener un resultado de calidad similar al entregado por uno FIR, con un número considerablemente menor de coeficientes. \n",
    "\n",
    "Es necesario tener en mente que se utilizó una salida de tipo sos y la aplicación se hizo con la funcion `sosfiltfilt`, por lo que en una comparación justa, el número de coeficientes utilizados en el filtro IIR debería ser mayor al presentado acá, pero sin duda seguiría siendo considerablemente menor al número que utiliza FIR. Otro punto importante, además del uso de memoria, son los tiempos de computo donde no entraremos en más detalle pero pudimos observar que la aplicación del filtro FIR es más veloz.\n"
   ]
  },
  {
   "cell_type": "markdown",
   "metadata": {},
   "source": [
    "### Anexo: rutina butter y lfilter\n",
    "\n",
    "\n",
    "Para nuestra implementación de la rutina, utilizamos salida de tipo `sos` a diferencia de lo visto en clases que se utilizaba salida de tipo `ba`, esto es debido a que al utilizar este tipo, no pudimos cumplir con la condición que se nos planteaba en el enunciado. Además se optó por aplicar el filtro usando `sosfiltfilt` en vez de `lfilter` por la misma razón que se explicó anteriormente.\n",
    "\n"
   ]
  },
  {
   "cell_type": "code",
   "execution_count": null,
   "metadata": {},
   "outputs": [],
   "source": [
    "N = 1\n",
    "mse_diff = False\n",
    "mse_best = np.inf\n",
    "\n",
    "while (N < 5 and not mse_diff):\n",
    "    filtros = []\n",
    "    for (fc, btype) in zip(freqs, b_types):\n",
    "        b, a = butter(N, Wn=fc, btype=btype, output='ba', analog=False)\n",
    "        filtros.append([b, a])\n",
    "\n",
    "    data_filtrada_iir = np.copy(data)\n",
    "    for [b, a] in filtros:\n",
    "        #zi = signal.lfilter_zi(b, a)\n",
    "        #data_filtrada_iir, _ = signal.lfilter(b, a, data_filtrada_iir, zi=zi)\n",
    "        data_filtrada_iir = signal.lfilter(b, a, data_filtrada_iir)\n",
    "        \n",
    "    mse = np.mean((data_filtrada_iir - data_filtrada_fir)**2)\n",
    "\n",
    "    print(f\"N : {N}, mse : {mse:.5f}\\t|\\t0.01*fir_var : {0.01*fir_var:.5f}\")\n",
    "    if (mse < mse_best):\n",
    "        mse_best = mse\n",
    "        best_N = N\n",
    "        best_data_iir = np.copy(data_filtrada_iir)\n",
    "        \n",
    "    if (mse < 0.01*fir_var):\n",
    "        mse_diff = True\n",
    "        print(\"bingo\")\n",
    "        \n",
    "    else:\n",
    "        N += 1\n",
    "        \n",
    "print(f\"mejor N : {best_N}, mse : {mse_best:.5f}\")"
   ]
  },
  {
   "cell_type": "code",
   "execution_count": null,
   "metadata": {},
   "outputs": [],
   "source": []
  }
 ],
 "metadata": {
  "kernelspec": {
   "display_name": "Python 3",
   "language": "python",
   "name": "python3"
  },
  "language_info": {
   "codemirror_mode": {
    "name": "ipython",
    "version": 3
   },
   "file_extension": ".py",
   "mimetype": "text/x-python",
   "name": "python",
   "nbconvert_exporter": "python",
   "pygments_lexer": "ipython3",
   "version": "3.8.5"
  },
  "toc": {
   "base_numbering": 1,
   "nav_menu": {},
   "number_sections": true,
   "sideBar": true,
   "skip_h1_title": false,
   "title_cell": "Table of Contents",
   "title_sidebar": "Contents",
   "toc_cell": false,
   "toc_position": {},
   "toc_section_display": true,
   "toc_window_display": false
  }
 },
 "nbformat": 4,
 "nbformat_minor": 4
}
